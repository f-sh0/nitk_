{
  "nbformat": 4,
  "nbformat_minor": 0,
  "metadata": {
    "colab": {
      "name": "negpos.ipynb",
      "provenance": [],
      "collapsed_sections": []
    },
    "kernelspec": {
      "name": "python3",
      "display_name": "Python 3"
    },
    "language_info": {
      "name": "python"
    }
  },
  "cells": [
    {
      "cell_type": "code",
      "execution_count": null,
      "metadata": {
        "colab": {
          "base_uri": "https://localhost:8080/"
        },
        "id": "oxy_JvBUv3qv",
        "outputId": "587cbbdc-d52b-4292-9a02-013b4e9bbf4b"
      },
      "outputs": [
        {
          "output_type": "stream",
          "name": "stdout",
          "text": [
            "Collecting janome\n",
            "  Downloading Janome-0.4.1-py2.py3-none-any.whl (19.7 MB)\n",
            "\u001b[K     |████████████████████████████████| 19.7 MB 87.1 MB/s \n",
            "\u001b[?25hInstalling collected packages: janome\n",
            "Successfully installed janome-0.4.1\n"
          ]
        }
      ],
      "source": [
        "!pip install janome"
      ]
    },
    {
      "cell_type": "code",
      "source": [
        "! curl http://www.cl.ecei.tohoku.ac.jp/resources/sent_lex/pn.csv.m3.120408.trim > pn.csv"
      ],
      "metadata": {
        "colab": {
          "base_uri": "https://localhost:8080/"
        },
        "id": "Bj0hq7eWwT7a",
        "outputId": "67a96def-2ad9-40b3-e4ae-2de29d097ef8"
      },
      "execution_count": null,
      "outputs": [
        {
          "output_type": "stream",
          "name": "stdout",
          "text": [
            "  % Total    % Received % Xferd  Average Speed   Time    Time     Time  Current\n",
            "                                 Dload  Upload   Total   Spent    Left  Speed\n",
            "100  676k  100  676k    0     0   316k      0  0:00:02  0:00:02 --:--:--  316k\n"
          ]
        }
      ]
    },
    {
      "cell_type": "code",
      "source": [
        "!curl https://www.aozora.gr.jp/cards/000879/files/127_15260.html > syosetu.html"
      ],
      "metadata": {
        "colab": {
          "base_uri": "https://localhost:8080/"
        },
        "id": "w8f8Ql2xwdw9",
        "outputId": "2bd35118-e0e9-4a45-ddd3-564e5ae46626"
      },
      "execution_count": null,
      "outputs": [
        {
          "output_type": "stream",
          "name": "stdout",
          "text": [
            "  % Total    % Received % Xferd  Average Speed   Time    Time     Time  Current\n",
            "                                 Dload  Upload   Total   Spent    Left  Speed\n",
            "100 21864  100 21864    0     0   7747      0  0:00:02  0:00:02 --:--:--  7744\n"
          ]
        }
      ]
    },
    {
      "cell_type": "code",
      "source": [
        "!curl news.txt > news1.txt"
      ],
      "metadata": {
        "colab": {
          "base_uri": "https://localhost:8080/"
        },
        "id": "66mGRXHRuTHf",
        "outputId": "f1813052-36f2-4cd2-a904-ee7039243db6"
      },
      "execution_count": null,
      "outputs": [
        {
          "output_type": "stream",
          "name": "stdout",
          "text": [
            "  % Total    % Received % Xferd  Average Speed   Time    Time     Time  Current\n",
            "                                 Dload  Upload   Total   Spent    Left  Speed\n",
            "\r  0     0    0     0    0     0      0      0 --:--:-- --:--:-- --:--:--     0curl: (6) Could not resolve host: news.txt\n"
          ]
        }
      ]
    },
    {
      "cell_type": "code",
      "source": [
        "from bs4 import BeautifulSoup \n",
        "# ファイルを読み込む \n",
        "with open(\"syosetu.html\", \"rt\", encoding=\"sjis\") as f: \n",
        "  html = f.read() \n",
        "# HTMLをパースする \n",
        "  soup = BeautifulSoup(html, 'html.parser') \n",
        "# ルビを削除 \n",
        "  soup.find(\"rp\").extract() \n",
        "  soup.find(\"rt\").extract() \n",
        "# テキストだけを取り出す \n",
        "  text = soup.get_text() \n",
        "  print(text) \n",
        "# 保存 \n",
        "  with open(\"syosetu.txt\", \"wt\", encoding=\"utf-8\") as w: \n",
        "    w.write(text)"
      ],
      "metadata": {
        "id": "F3aoC1HvwnIj"
      },
      "execution_count": null,
      "outputs": []
    },
    {
      "cell_type": "code",
      "source": [
        "# ネガポジ辞書\n",
        "import csv \n",
        "np_dic = {} \n",
        "fp = open(\"pn.csv\", \"rt\", encoding=\"utf-8\") \n",
        "reader = csv.reader(fp, delimiter='\\t') \n",
        "for i, row in enumerate(reader): \n",
        "  name = row[0] \n",
        "  result = row[1] \n",
        "  np_dic[name] = result \n",
        "  if i % 500 == 0: \n",
        "    print(i) \n",
        "    print(\"ok\")\n",
        "\n",
        "#Exam\n",
        "print(np_dic[\"笑顔\"]) \n",
        "print(np_dic[\"嫌い\"]) \n",
        "print(np_dic[\"時間\"])"
      ],
      "metadata": {
        "id": "Yj81FiPbyXWf"
      },
      "execution_count": null,
      "outputs": []
    },
    {
      "cell_type": "code",
      "source": [
        "# テキストの読み込み\n",
        "text = [None] * 10\n",
        "for i in range(10):\n",
        "    fp = open('news{}.txt'.format(i + 1), mode='rt', encoding='utf-8')\n",
        "    text[i] = fp.read()\n",
        "\n",
        "# 小説を読み込む \n",
        "#fp = open(\"syosetu.txt\", \"rt\", encoding=\"utf-8\") \n",
        "#text = fp.read() \n",
        "\n",
        "# 形態素解析 \n",
        "from janome.tokenizer import Tokenizer \n",
        "tok = Tokenizer() \n",
        "\n",
        "# 数える\n",
        "pos = [None] * 10\n",
        "neg = [None] * 10\n",
        "res_new = [None] * 10\n",
        "for i in range(10):\n",
        "  res = {\"p\":0, \"n\":0, \"e\":0} \n",
        "  for t in tok.tokenize(text[i]): \n",
        "    bf = t.base_form # 基本形 \n",
        "    # 辞書にあるか確認 \n",
        "    if bf in np_dic: \n",
        "      r = np_dic[bf] \n",
        "      if r in res: \n",
        "        res[r] += 1 \n",
        "        print(bf,np_dic[bf])\n",
        "  res_new[i] = res\n",
        "  # 結果を表示\n",
        "  print(res_new[i])\n",
        "  cnt = res[\"p\"] + res[\"n\"] + res[\"e\"] \n",
        "  pos[i] = (res[\"p\"] / cnt)*100\n",
        "  neg[i] = (res[\"n\"] / cnt)*100\n",
        "  print(\"ポジティブ度\", pos[i], \"%\") \n",
        "  print(\"ネガティブ度\", neg[i], \"%\")\n",
        "\n",
        "# 累計ネガポジの分析用ファイル作成\n",
        "f = open('negpos_res.txt','w')\n",
        "for i in range(10):\n",
        "  f.write('news')\n",
        "  f.write(str(i+1))\n",
        "  f.write('\\n')\n",
        "  f.write('Positive: ')\n",
        "  f.write(str(pos[i]))\n",
        "  f.write('\\n')\n",
        "  f.write('Negative: ')\n",
        "  f.write(str(neg[i]))\n",
        "  f.write('\\n')\n",
        "  f.write('\\n')\n",
        "f.close()\n"
      ],
      "metadata": {
        "colab": {
          "base_uri": "https://localhost:8080/"
        },
        "id": "_ji0tu3LzU5u",
        "outputId": "7a000a77-3dec-4cbc-94ca-5a56c4b545e5"
      },
      "execution_count": null,
      "outputs": [
        {
          "output_type": "stream",
          "name": "stdout",
          "text": [
            "増 e\n",
            "出席 e\n",
            "議員 e\n",
            "国益 p\n",
            "異論 n\n",
            "格差 n\n",
            "是正 e\n",
            "ため p\n",
            "議論 e\n",
            "検討 e\n",
            "増 e\n",
            "確定 e\n",
            "増 e\n",
            "増 e\n",
            "審議 e\n",
            "{'p': 2, 'n': 2, 'e': 11}\n",
            "ポジティブ度 13.333333333333334 %\n",
            "ネガティブ度 13.333333333333334 %\n",
            "世界 e\n",
            "高速 p\n",
            "夢 e\n",
            "高速 p\n",
            "主 e\n",
            "高速 p\n",
            "研究 e\n",
            "無理 n\n",
            "先生 e\n",
            "研究 e\n",
            "自分 e\n",
            "計算 e\n",
            "{'p': 3, 'n': 1, 'e': 8}\n",
            "ポジティブ度 25.0 %\n",
            "ネガティブ度 8.333333333333332 %\n",
            "活躍 p\n",
            "女性 e\n",
            "歌手 p\n",
            "恋 e\n",
            "雨 e\n",
            "名曲 p\n",
            "本名 e\n",
            "ガン n\n",
            "{'p': 3, 'n': 1, 'e': 4}\n",
            "ポジティブ度 37.5 %\n",
            "ネガティブ度 12.5 %\n",
            "ウイルス n\n",
            "警戒 n\n",
            "感染 n\n",
            "状況 e\n",
            "医療 e\n",
            "提供 p\n",
            "{'p': 1, 'n': 3, 'e': 2}\n",
            "ポジティブ度 16.666666666666664 %\n",
            "ネガティブ度 50.0 %\n",
            "タレント e\n",
            "優 p\n",
            "更新 e\n",
            "交際 e\n",
            "結婚 p\n",
            "付き合い p\n",
            "友人 p\n",
            "お許し e\n",
            "尊重 p\n",
            "自由 p\n",
            "気持ち p\n",
            "時間 e\n",
            "自信 p\n",
            "{'p': 8, 'n': 0, 'e': 5}\n",
            "ポジティブ度 61.53846153846154 %\n",
            "ネガティブ度 0.0 %\n",
            "米 e\n",
            "移植 e\n",
            "成功 p\n",
            "執刀 e\n",
            "医師 e\n",
            "移植 e\n",
            "不足 n\n",
            "危機 n\n",
            "打開 e\n",
            "強調 e\n",
            "移植 e\n",
            "患者 n\n",
            "移植 e\n",
            "二者択一 e\n",
            "望み p\n",
            "時間 e\n",
            "監視 e\n",
            "状態 e\n",
            "{'p': 2, 'n': 3, 'e': 13}\n",
            "ポジティブ度 11.11111111111111 %\n",
            "ネガティブ度 16.666666666666664 %\n",
            "目 e\n",
            "決勝 e\n",
            "対 e\n",
            "目 e\n",
            "優勝 p\n",
            "目 e\n",
            "決勝 e\n",
            "決勝 e\n",
            "決勝 e\n",
            "先制 e\n",
            "追加 e\n",
            "点 e\n",
            "点 e\n",
            "攻撃 e\n",
            "手 e\n",
            "手 e\n",
            "対 e\n",
            "勝ち p\n",
            "目 e\n",
            "優勝 p\n",
            "決勝 e\n",
            "中心 e\n",
            "得点 p\n",
            "優勝 p\n",
            "{'p': 5, 'n': 0, 'e': 19}\n",
            "ポジティブ度 20.833333333333336 %\n",
            "ネガティブ度 0.0 %\n",
            "歓声 p\n",
            "たくさん e\n",
            "ここ e\n",
            "人 e\n",
            "ハッピー p\n",
            "チャンス p\n",
            "{'p': 3, 'n': 0, 'e': 3}\n",
            "ポジティブ度 50.0 %\n",
            "ネガティブ度 0.0 %\n",
            "同棲 e\n",
            "死亡 n\n",
            "事件 n\n",
            "逮捕 n\n",
            "交際 e\n",
            "中 e\n",
            "人 e\n",
            "トラブル n\n",
            "解明 e\n",
            "発見 e\n",
            "血 e\n",
            "殺人 n\n",
            "容疑 n\n",
            "逮捕 n\n",
            "時間 e\n",
            "病院 n\n",
            "死亡 n\n",
            "殺人 n\n",
            "容疑 n\n",
            "取り調べ e\n",
            "説明 e\n",
            "スマート p\n",
            "つもり e\n",
            "人 e\n",
            "人 e\n",
            "交際 e\n",
            "同棲 e\n",
            "明らか e\n",
            "元 e\n",
            "点 e\n",
            "動機 e\n",
            "環境 e\n",
            "ため p\n",
            "事件 n\n",
            "発展 p\n",
            "可能 e\n",
            "性 e\n",
            "闇 e\n",
            "中 e\n",
            "慎重 e\n",
            "{'p': 3, 'n': 12, 'e': 25}\n",
            "ポジティブ度 7.5 %\n",
            "ネガティブ度 30.0 %\n",
            "ブランド e\n",
            "最高 p\n",
            "風味 p\n",
            "幸せ p\n",
            "気軽 p\n",
            "商品 e\n",
            "一新 e\n",
            "ストレート e\n",
            "ブランド e\n",
            "最高 p\n",
            "風味 p\n",
            "再現 e\n",
            "華やか p\n",
            "香り p\n",
            "渋み n\n",
            "特徴 e\n",
            "味わい p\n",
            "ストレート e\n",
            "最適 p\n",
            "豊か p\n",
            "香り p\n",
            "切れ e\n",
            "香り p\n",
            "芳醇 p\n",
            "香り p\n",
            "味わい p\n",
            "香り p\n",
            "爽やか p\n",
            "酸味 e\n",
            "一緒 p\n",
            "希望 p\n",
            "価格 n\n",
            "他 e\n",
            "品 p\n",
            "オープン e\n",
            "価格 n\n",
            "{'p': 21, 'n': 3, 'e': 12}\n",
            "ポジティブ度 58.333333333333336 %\n",
            "ネガティブ度 8.333333333333332 %\n"
          ]
        }
      ]
    },
    {
      "cell_type": "code",
      "source": [
        "#総合的なネガポジが1:3になるようにする\n",
        "import random\n",
        "def rand_ints_nodup(a, b, k):\n",
        "  ns = []\n",
        "  while len(ns) < k:\n",
        "    n = random.randint(a, b)\n",
        "    if not n in ns:\n",
        "      ns.append(n)\n",
        "  return ns\n",
        "\n",
        "while True:\n",
        "  pos_sum = 0\n",
        "  neg_sum = 0\n",
        "  rand = rand_ints_nodup(0, 9, 3)\n",
        "  for i in range(3):\n",
        "    pos_sum += pos[rand[i]]\n",
        "    neg_sum += neg[rand[i]]\n",
        "  ratio = neg_sum / pos_sum\n",
        "  if((ratio > 0.28) and (ratio < 0.4)):\n",
        "    break;\n",
        "  else:\n",
        "    print(rand)\n",
        "\n",
        "print(\"good news contents: \")\n",
        "for i in range(3):\n",
        "  print(\"news\"+str(rand[i]+1))"
      ],
      "metadata": {
        "colab": {
          "base_uri": "https://localhost:8080/"
        },
        "id": "xvBW7M7oHISi",
        "outputId": "50b96147-1202-44fa-cf08-2242e50ee287"
      },
      "execution_count": 127,
      "outputs": [
        {
          "output_type": "stream",
          "name": "stdout",
          "text": [
            "[2, 3, 9]\n",
            "[3, 5, 1]\n",
            "[5, 2, 6]\n",
            "[8, 4, 1]\n",
            "[4, 2, 6]\n",
            "[6, 2, 8]\n",
            "[5, 9, 8]\n",
            "[0, 6, 8]\n",
            "good news contents: \n",
            "news10\n",
            "news1\n",
            "news2\n"
          ]
        }
      ]
    },
    {
      "cell_type": "code",
      "source": [
        "import pandas as pd \n",
        "df = pd.DataFrame({'nega_posi':[neg_sum, pos_sum]}, \n",
        "                  index=['Negative','Positive']) \n",
        "df.plot.pie(y='nega_posi', figsize=(6,6))"
      ],
      "metadata": {
        "colab": {
          "base_uri": "https://localhost:8080/",
          "height": 374
        },
        "id": "_ExBrX-o0J0q",
        "outputId": "78106e80-b775-41f6-d9da-0282038460e7"
      },
      "execution_count": 128,
      "outputs": [
        {
          "output_type": "execute_result",
          "data": {
            "text/plain": [
              "<matplotlib.axes._subplots.AxesSubplot at 0x7f4947309ad0>"
            ]
          },
          "metadata": {},
          "execution_count": 128
        },
        {
          "output_type": "display_data",
          "data": {
            "image/png": "[encoded data removed]",
            "text/plain": [
              "<Figure size 432x432 with 1 Axes>"
            ]
          },
          "metadata": {}
        }
      ]
    }
  ]
}